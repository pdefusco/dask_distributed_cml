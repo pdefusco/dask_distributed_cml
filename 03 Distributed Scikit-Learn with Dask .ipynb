{
 "cells": [
  {
   "cell_type": "markdown",
   "metadata": {},
   "source": [
    "# Distributed Scikit-Learn with Dask 03"
   ]
  },
  {
   "cell_type": "markdown",
   "metadata": {},
   "source": [
    "#### Objective:\n",
    "- Demonstrate how to run Distributed Scikit-Learn Algorithms with Dask on a CML Cluster\n",
    "- Notice: this is different from the Dask-ML library which is the subject of the next notebook "
   ]
  },
  {
   "cell_type": "markdown",
   "metadata": {},
   "source": [
    "#### For a comparison with Dask-ML see: https://tutorial.dask.org/08_machine_learning.html#Types-of-Scaling"
   ]
  },
  {
   "cell_type": "markdown",
   "metadata": {},
   "source": [
    "Code from: https://examples.dask.org/machine-learning/scale-scikit-learn.html"
   ]
  },
  {
   "cell_type": "code",
   "execution_count": 1,
   "metadata": {},
   "outputs": [
    {
     "name": "stdout",
     "output_type": "stream",
     "text": [
      "Waiting for Dask scheduler to become ready...\n",
      "Dask scheduler is ready\n",
      "IDs ['0wwz1hv7uurjy7jd', 'c7wclzioorq7m9fh', '5ah93un6bffsyb0s']\n"
     ]
    },
    {
     "data": {
      "text/html": [
       "<table style=\"border: 2px solid white;\">\n",
       "<tr>\n",
       "<td style=\"vertical-align: top; border: 0px solid white\">\n",
       "<h3 style=\"text-align: left;\">Client</h3>\n",
       "<ul style=\"text-align: left; list-style: none; margin: 0; padding: 0;\">\n",
       "  <li><b>Scheduler: </b>tcp://10.0.85.15:2323</li>\n",
       "  <li><b>Dashboard: </b><a href='http://10.0.85.15:8100/status' target='_blank'>http://10.0.85.15:8100/status</a>\n",
       "</ul>\n",
       "</td>\n",
       "<td style=\"vertical-align: top; border: 0px solid white\">\n",
       "<h3 style=\"text-align: left;\">Cluster</h3>\n",
       "<ul style=\"text-align: left; list-style:none; margin: 0; padding: 0;\">\n",
       "  <li><b>Workers: </b>1</li>\n",
       "  <li><b>Cores: </b>16</li>\n",
       "  <li><b>Memory: </b>1000.00 MB</li>\n",
       "</ul>\n",
       "</td>\n",
       "</tr>\n",
       "</table>"
      ],
      "text/plain": [
       "<Client: 'tcp://10.0.85.15:2323' processes=1 threads=16, memory=1000.00 MB>"
      ]
     },
     "execution_count": 1,
     "metadata": {},
     "output_type": "execute_result"
    }
   ],
   "source": [
    "import cdsw_dask_utils\n",
    "import cdsw\n",
    "\n",
    "# Run a Dask cluster with three workers and return an object containing\n",
    "# a description of the cluster. \n",
    "# \n",
    "# Note that the scheduler will run in the current session, and the Dask\n",
    "# dashboard will become available in the nine-dot menu at the upper\n",
    "# right corner of the CDSW app.\n",
    "\n",
    "cluster = cdsw_dask_utils.run_dask_cluster(\n",
    "  n=3, \\\n",
    "  cpu=1, \\\n",
    "  memory=1, \\\n",
    "  nvidia_gpu=0\n",
    ")\n",
    "\n",
    "# Connect a Dask client to the scheduler address in the cluster\n",
    "# description.\n",
    "from dask.distributed import Client\n",
    "client = Client(cluster[\"scheduler_address\"])\n",
    "client"
   ]
  },
  {
   "cell_type": "markdown",
   "metadata": {},
   "source": [
    "#### Dask Scheduler UI"
   ]
  },
  {
   "cell_type": "code",
   "execution_count": null,
   "metadata": {},
   "outputs": [],
   "source": [
    "import os \n",
    "engine_id = os.environ.get('CDSW_ENGINE_ID')\n",
    "cdsw_domain = os.environ.get('CDSW_DOMAIN')\n",
    "\n",
    "from IPython.core.display import HTML\n",
    "HTML('<a  target=\"_blank\" rel=\"noopener noreferrer\" href=\"http://read-only-{}.{}\">http://read-only-{}.{}</a>'\n",
    "     .format(engine_id,cdsw_domain,engine_id,cdsw_domain))"
   ]
  },
  {
   "cell_type": "code",
   "execution_count": 2,
   "metadata": {},
   "outputs": [],
   "source": [
    "from pprint import pprint\n",
    "from time import time\n",
    "import logging\n",
    "\n",
    "from sklearn.datasets import fetch_20newsgroups\n",
    "from sklearn.feature_extraction.text import HashingVectorizer\n",
    "from sklearn.feature_extraction.text import TfidfTransformer\n",
    "from sklearn.linear_model import SGDClassifier\n",
    "from sklearn.model_selection import GridSearchCV\n",
    "from sklearn.pipeline import Pipeline"
   ]
  },
  {
   "cell_type": "code",
   "execution_count": 3,
   "metadata": {},
   "outputs": [],
   "source": [
    "from dask.distributed import Client, progress\n",
    "import dask.dataframe as dd"
   ]
  },
  {
   "cell_type": "code",
   "execution_count": 6,
   "metadata": {},
   "outputs": [
    {
     "name": "stderr",
     "output_type": "stream",
     "text": [
      "Downloading 20news dataset. This may take a few minutes.\n",
      "Downloading dataset from https://ndownloader.figshare.com/files/5975967 (14 MB)\n"
     ]
    },
    {
     "name": "stdout",
     "output_type": "stream",
     "text": [
      "Loading 20 newsgroups dataset for categories:\n",
      "['alt.atheism', 'talk.religion.misc']\n",
      "857 documents\n",
      "2 categories\n",
      "\n"
     ]
    }
   ],
   "source": [
    "# Scale Up: set categories=None to use all the categories\n",
    "categories = [\n",
    "    'alt.atheism',\n",
    "    'talk.religion.misc',\n",
    "]\n",
    "\n",
    "print(\"Loading 20 newsgroups dataset for categories:\")\n",
    "print(categories)\n",
    "\n",
    "data = fetch_20newsgroups(subset='train', categories=categories)\n",
    "print(\"%d documents\" % len(data.filenames))\n",
    "print(\"%d categories\" % len(data.target_names))\n",
    "print()"
   ]
  },
  {
   "cell_type": "code",
   "execution_count": 7,
   "metadata": {},
   "outputs": [],
   "source": [
    "pipeline = Pipeline([\n",
    "    ('vect', HashingVectorizer()),\n",
    "    ('tfidf', TfidfTransformer()),\n",
    "    ('clf', SGDClassifier(max_iter=1000)),\n",
    "])"
   ]
  },
  {
   "cell_type": "code",
   "execution_count": 8,
   "metadata": {},
   "outputs": [],
   "source": [
    "parameters = {\n",
    "    'tfidf__use_idf': (True, False),\n",
    "    'tfidf__norm': ('l1', 'l2'),\n",
    "    'clf__alpha': (0.00001, 0.000001),\n",
    "    # 'clf__penalty': ('l2', 'elasticnet'),\n",
    "    # 'clf__n_iter': (10, 50, 80),\n",
    "}"
   ]
  },
  {
   "cell_type": "code",
   "execution_count": 9,
   "metadata": {},
   "outputs": [],
   "source": [
    "grid_search = GridSearchCV(pipeline, parameters, n_jobs=-1, verbose=1, cv=3, refit=False, iid=False)"
   ]
  },
  {
   "cell_type": "markdown",
   "metadata": {},
   "source": [
    "#### To use the Dask distributed backend, which will use a cluster of machines to train the model, perform the fit in a parallel_backend context."
   ]
  },
  {
   "cell_type": "code",
   "execution_count": 12,
   "metadata": {},
   "outputs": [
    {
     "name": "stderr",
     "output_type": "stream",
     "text": [
      "/home/cdsw/.local/lib/python3.6/site-packages/sklearn/externals/joblib/__init__.py:15: DeprecationWarning: sklearn.externals.joblib is deprecated in 0.21 and will be removed in 0.23. Please import this functionality directly from joblib, which can be installed with: pip install joblib. If this warning is raised when loading pickled models, you may need to re-serialize those models with scikit-learn 0.21+.\n",
      "  warnings.warn(msg, category=DeprecationWarning)\n",
      "[Parallel(n_jobs=-1)]: Using backend DaskDistributedBackend with 48 concurrent workers.\n"
     ]
    },
    {
     "name": "stdout",
     "output_type": "stream",
     "text": [
      "Fitting 3 folds for each of 8 candidates, totalling 24 fits\n"
     ]
    },
    {
     "name": "stderr",
     "output_type": "stream",
     "text": [
      "distributed.client - ERROR - Error in callback <function DaskDistributedBackend.apply_async.<locals>.callback_wrapper at 0x7fbee9a32510> of <Future: status: cancelled, key: _fit_and_score-batch-9182a6b64c5f40fcb48d5382bd753ea7>:\n",
      "Traceback (most recent call last):\n",
      "  File \"/home/cdsw/.local/lib/python3.6/site-packages/distributed/client.py\", line 287, in execute_callback\n",
      "    fn(fut)\n",
      "  File \"/home/cdsw/.local/lib/python3.6/site-packages/joblib/_dask.py\", line 260, in callback_wrapper\n",
      "    result = future.result()\n",
      "  File \"/home/cdsw/.local/lib/python3.6/site-packages/distributed/client.py\", line 224, in result\n",
      "    raise result\n",
      "concurrent.futures._base.CancelledError: _fit_and_score-batch-9182a6b64c5f40fcb48d5382bd753ea7\n",
      "distributed.client - ERROR - Error in callback <function DaskDistributedBackend.apply_async.<locals>.callback_wrapper at 0x7fbe69ece950> of <Future: status: cancelled, key: _fit_and_score-batch-2974eab0a6a0469da36b3a91a00825c4>:\n",
      "Traceback (most recent call last):\n",
      "  File \"/home/cdsw/.local/lib/python3.6/site-packages/distributed/client.py\", line 287, in execute_callback\n",
      "    fn(fut)\n",
      "  File \"/home/cdsw/.local/lib/python3.6/site-packages/joblib/_dask.py\", line 260, in callback_wrapper\n",
      "    result = future.result()\n",
      "  File \"/home/cdsw/.local/lib/python3.6/site-packages/distributed/client.py\", line 224, in result\n",
      "    raise result\n",
      "concurrent.futures._base.CancelledError: _fit_and_score-batch-2974eab0a6a0469da36b3a91a00825c4\n",
      "distributed.client - ERROR - Error in callback <function DaskDistributedBackend.apply_async.<locals>.callback_wrapper at 0x7fbe6a3fe6a8> of <Future: status: cancelled, key: _fit_and_score-batch-29f9ff9cbf174c28ba8cbd2c0a827740>:\n",
      "Traceback (most recent call last):\n",
      "  File \"/home/cdsw/.local/lib/python3.6/site-packages/distributed/client.py\", line 287, in execute_callback\n",
      "    fn(fut)\n",
      "  File \"/home/cdsw/.local/lib/python3.6/site-packages/joblib/_dask.py\", line 260, in callback_wrapper\n",
      "    result = future.result()\n",
      "  File \"/home/cdsw/.local/lib/python3.6/site-packages/distributed/client.py\", line 224, in result\n",
      "    raise result\n",
      "concurrent.futures._base.CancelledError: _fit_and_score-batch-29f9ff9cbf174c28ba8cbd2c0a827740\n",
      "distributed.client - ERROR - Error in callback <function DaskDistributedBackend.apply_async.<locals>.callback_wrapper at 0x7fbe6a3fe488> of <Future: status: cancelled, key: _fit_and_score-batch-208f134096f04a8f8e45b62631eef9bb>:\n",
      "Traceback (most recent call last):\n",
      "  File \"/home/cdsw/.local/lib/python3.6/site-packages/distributed/client.py\", line 287, in execute_callback\n",
      "    fn(fut)\n",
      "  File \"/home/cdsw/.local/lib/python3.6/site-packages/joblib/_dask.py\", line 260, in callback_wrapper\n",
      "    result = future.result()\n",
      "  File \"/home/cdsw/.local/lib/python3.6/site-packages/distributed/client.py\", line 224, in result\n",
      "    raise result\n",
      "concurrent.futures._base.CancelledError: _fit_and_score-batch-208f134096f04a8f8e45b62631eef9bb\n",
      "distributed.client - ERROR - Error in callback <function DaskDistributedBackend.apply_async.<locals>.callback_wrapper at 0x7fbe6a3fe2f0> of <Future: status: cancelled, key: _fit_and_score-batch-3856723f4c61452098cf85c8095808d9>:\n",
      "Traceback (most recent call last):\n",
      "  File \"/home/cdsw/.local/lib/python3.6/site-packages/distributed/client.py\", line 287, in execute_callback\n",
      "    fn(fut)\n",
      "  File \"/home/cdsw/.local/lib/python3.6/site-packages/joblib/_dask.py\", line 260, in callback_wrapper\n",
      "    result = future.result()\n",
      "  File \"/home/cdsw/.local/lib/python3.6/site-packages/distributed/client.py\", line 224, in result\n",
      "    raise result\n",
      "concurrent.futures._base.CancelledError: _fit_and_score-batch-3856723f4c61452098cf85c8095808d9\n",
      "distributed.client - ERROR - Error in callback <function DaskDistributedBackend.apply_async.<locals>.callback_wrapper at 0x7fbe74431d90> of <Future: status: cancelled, key: _fit_and_score-batch-cd4084e4796c48f494ae3aedfe722b5a>:\n",
      "Traceback (most recent call last):\n",
      "  File \"/home/cdsw/.local/lib/python3.6/site-packages/distributed/client.py\", line 287, in execute_callback\n",
      "    fn(fut)\n",
      "  File \"/home/cdsw/.local/lib/python3.6/site-packages/joblib/_dask.py\", line 260, in callback_wrapper\n",
      "    result = future.result()\n",
      "  File \"/home/cdsw/.local/lib/python3.6/site-packages/distributed/client.py\", line 224, in result\n",
      "    raise result\n",
      "concurrent.futures._base.CancelledError: _fit_and_score-batch-cd4084e4796c48f494ae3aedfe722b5a\n",
      "distributed.client - ERROR - Error in callback <function DaskDistributedBackend.apply_async.<locals>.callback_wrapper at 0x7fbe74486ea0> of <Future: status: cancelled, key: _fit_and_score-batch-385a71c88cb8446e9c50911cba3ab409>:\n",
      "Traceback (most recent call last):\n",
      "  File \"/home/cdsw/.local/lib/python3.6/site-packages/distributed/client.py\", line 287, in execute_callback\n",
      "    fn(fut)\n",
      "  File \"/home/cdsw/.local/lib/python3.6/site-packages/joblib/_dask.py\", line 260, in callback_wrapper\n",
      "    result = future.result()\n",
      "  File \"/home/cdsw/.local/lib/python3.6/site-packages/distributed/client.py\", line 224, in result\n",
      "    raise result\n",
      "concurrent.futures._base.CancelledError: _fit_and_score-batch-385a71c88cb8446e9c50911cba3ab409\n",
      "distributed.client - ERROR - Error in callback <function DaskDistributedBackend.apply_async.<locals>.callback_wrapper at 0x7fbe6a523a60> of <Future: status: cancelled, key: _fit_and_score-batch-390f160196eb437b93f649191861597a>:\n",
      "Traceback (most recent call last):\n",
      "  File \"/home/cdsw/.local/lib/python3.6/site-packages/distributed/client.py\", line 287, in execute_callback\n",
      "    fn(fut)\n",
      "  File \"/home/cdsw/.local/lib/python3.6/site-packages/joblib/_dask.py\", line 260, in callback_wrapper\n",
      "    result = future.result()\n",
      "  File \"/home/cdsw/.local/lib/python3.6/site-packages/distributed/client.py\", line 224, in result\n",
      "    raise result\n",
      "concurrent.futures._base.CancelledError: _fit_and_score-batch-390f160196eb437b93f649191861597a\n",
      "distributed.client - ERROR - Error in callback <function DaskDistributedBackend.apply_async.<locals>.callback_wrapper at 0x7fbe7440c9d8> of <Future: status: cancelled, key: _fit_and_score-batch-9bc1403eb8e447b4aa23f81335447bc9>:\n",
      "Traceback (most recent call last):\n",
      "  File \"/home/cdsw/.local/lib/python3.6/site-packages/distributed/client.py\", line 287, in execute_callback\n",
      "    fn(fut)\n",
      "  File \"/home/cdsw/.local/lib/python3.6/site-packages/joblib/_dask.py\", line 260, in callback_wrapper\n",
      "    result = future.result()\n",
      "  File \"/home/cdsw/.local/lib/python3.6/site-packages/distributed/client.py\", line 224, in result\n",
      "    raise result\n",
      "concurrent.futures._base.CancelledError: _fit_and_score-batch-9bc1403eb8e447b4aa23f81335447bc9\n",
      "distributed.client - ERROR - Error in callback <function DaskDistributedBackend.apply_async.<locals>.callback_wrapper at 0x7fbe6a3fe158> of <Future: status: cancelled, key: _fit_and_score-batch-d60400c8c22c43eabd7b2a95eb0ee91f>:\n",
      "Traceback (most recent call last):\n",
      "  File \"/home/cdsw/.local/lib/python3.6/site-packages/distributed/client.py\", line 287, in execute_callback\n",
      "    fn(fut)\n",
      "  File \"/home/cdsw/.local/lib/python3.6/site-packages/joblib/_dask.py\", line 260, in callback_wrapper\n",
      "    result = future.result()\n",
      "  File \"/home/cdsw/.local/lib/python3.6/site-packages/distributed/client.py\", line 224, in result\n",
      "    raise result\n",
      "concurrent.futures._base.CancelledError: _fit_and_score-batch-d60400c8c22c43eabd7b2a95eb0ee91f\n",
      "distributed.client - ERROR - Error in callback <function DaskDistributedBackend.apply_async.<locals>.callback_wrapper at 0x7fbe6a523400> of <Future: status: cancelled, key: _fit_and_score-batch-7ebee45ae58d4641a8de22b33be81daf>:\n",
      "Traceback (most recent call last):\n",
      "  File \"/home/cdsw/.local/lib/python3.6/site-packages/distributed/client.py\", line 287, in execute_callback\n",
      "    fn(fut)\n",
      "  File \"/home/cdsw/.local/lib/python3.6/site-packages/joblib/_dask.py\", line 260, in callback_wrapper\n",
      "    result = future.result()\n",
      "  File \"/home/cdsw/.local/lib/python3.6/site-packages/distributed/client.py\", line 224, in result\n",
      "    raise result\n",
      "concurrent.futures._base.CancelledError: _fit_and_score-batch-7ebee45ae58d4641a8de22b33be81daf\n",
      "distributed.client - ERROR - Error in callback <function DaskDistributedBackend.apply_async.<locals>.callback_wrapper at 0x7fbe6a523048> of <Future: status: cancelled, key: _fit_and_score-batch-17925e28bd314fe3ac252c3bad98d640>:\n",
      "Traceback (most recent call last):\n",
      "  File \"/home/cdsw/.local/lib/python3.6/site-packages/distributed/client.py\", line 287, in execute_callback\n",
      "    fn(fut)\n",
      "  File \"/home/cdsw/.local/lib/python3.6/site-packages/joblib/_dask.py\", line 260, in callback_wrapper\n",
      "    result = future.result()\n",
      "  File \"/home/cdsw/.local/lib/python3.6/site-packages/distributed/client.py\", line 224, in result\n",
      "    raise result\n",
      "concurrent.futures._base.CancelledError: _fit_and_score-batch-17925e28bd314fe3ac252c3bad98d640\n"
     ]
    },
    {
     "name": "stderr",
     "output_type": "stream",
     "text": [
      "distributed.client - ERROR - Error in callback <function DaskDistributedBackend.apply_async.<locals>.callback_wrapper at 0x7fbe74437a60> of <Future: status: cancelled, key: _fit_and_score-batch-77644c6852b244d0ae774557f8be3e38>:\n",
      "Traceback (most recent call last):\n",
      "  File \"/home/cdsw/.local/lib/python3.6/site-packages/distributed/client.py\", line 287, in execute_callback\n",
      "    fn(fut)\n",
      "  File \"/home/cdsw/.local/lib/python3.6/site-packages/joblib/_dask.py\", line 260, in callback_wrapper\n",
      "    result = future.result()\n",
      "  File \"/home/cdsw/.local/lib/python3.6/site-packages/distributed/client.py\", line 224, in result\n",
      "    raise result\n",
      "concurrent.futures._base.CancelledError: _fit_and_score-batch-77644c6852b244d0ae774557f8be3e38\n",
      "distributed.client - ERROR - Error in callback <function DaskDistributedBackend.apply_async.<locals>.callback_wrapper at 0x7fbe74437620> of <Future: status: cancelled, key: _fit_and_score-batch-2c311939a72043109faa37ed2f90be62>:\n",
      "Traceback (most recent call last):\n",
      "  File \"/home/cdsw/.local/lib/python3.6/site-packages/distributed/client.py\", line 287, in execute_callback\n",
      "    fn(fut)\n",
      "  File \"/home/cdsw/.local/lib/python3.6/site-packages/joblib/_dask.py\", line 260, in callback_wrapper\n",
      "    result = future.result()\n",
      "  File \"/home/cdsw/.local/lib/python3.6/site-packages/distributed/client.py\", line 224, in result\n",
      "    raise result\n",
      "concurrent.futures._base.CancelledError: _fit_and_score-batch-2c311939a72043109faa37ed2f90be62\n",
      "distributed.client - ERROR - Error in callback <function DaskDistributedBackend.apply_async.<locals>.callback_wrapper at 0x7fbe74437378> of <Future: status: cancelled, key: _fit_and_score-batch-e4db4fefac2648b58f64d5c27b0a2f1d>:\n",
      "Traceback (most recent call last):\n",
      "  File \"/home/cdsw/.local/lib/python3.6/site-packages/distributed/client.py\", line 287, in execute_callback\n",
      "    fn(fut)\n",
      "  File \"/home/cdsw/.local/lib/python3.6/site-packages/joblib/_dask.py\", line 260, in callback_wrapper\n",
      "    result = future.result()\n",
      "  File \"/home/cdsw/.local/lib/python3.6/site-packages/distributed/client.py\", line 224, in result\n",
      "    raise result\n",
      "concurrent.futures._base.CancelledError: _fit_and_score-batch-e4db4fefac2648b58f64d5c27b0a2f1d\n"
     ]
    },
    {
     "ename": "CancelledError",
     "evalue": "_fit_and_score-batch-a65945a1f5b44e85a720511f734180c6",
     "output_type": "error",
     "traceback": [
      "\u001b[0;31m---------------------------------------------------------------------------\u001b[0m",
      "\u001b[0;31mCancelledError\u001b[0m                            Traceback (most recent call last)",
      "\u001b[0;32m<ipython-input-12-2d330cf60ccc>\u001b[0m in \u001b[0;36m<module>\u001b[0;34m()\u001b[0m\n\u001b[1;32m      3\u001b[0m \u001b[0;34m\u001b[0m\u001b[0m\n\u001b[1;32m      4\u001b[0m \u001b[0;32mwith\u001b[0m \u001b[0mparallel_backend\u001b[0m\u001b[0;34m(\u001b[0m\u001b[0;34m'dask'\u001b[0m\u001b[0;34m)\u001b[0m\u001b[0;34m:\u001b[0m\u001b[0;34m\u001b[0m\u001b[0;34m\u001b[0m\u001b[0m\n\u001b[0;32m----> 5\u001b[0;31m     \u001b[0mgrid_search\u001b[0m\u001b[0;34m.\u001b[0m\u001b[0mfit\u001b[0m\u001b[0;34m(\u001b[0m\u001b[0mdata\u001b[0m\u001b[0;34m.\u001b[0m\u001b[0mdata\u001b[0m\u001b[0;34m,\u001b[0m \u001b[0mdata\u001b[0m\u001b[0;34m.\u001b[0m\u001b[0mtarget\u001b[0m\u001b[0;34m)\u001b[0m\u001b[0;34m\u001b[0m\u001b[0;34m\u001b[0m\u001b[0m\n\u001b[0m",
      "\u001b[0;32m/home/cdsw/.local/lib/python3.6/site-packages/sklearn/model_selection/_search.py\u001b[0m in \u001b[0;36mfit\u001b[0;34m(self, X, y, groups, **fit_params)\u001b[0m\n\u001b[1;32m    686\u001b[0m                 \u001b[0;32mreturn\u001b[0m \u001b[0mresults\u001b[0m\u001b[0;34m\u001b[0m\u001b[0;34m\u001b[0m\u001b[0m\n\u001b[1;32m    687\u001b[0m \u001b[0;34m\u001b[0m\u001b[0m\n\u001b[0;32m--> 688\u001b[0;31m             \u001b[0mself\u001b[0m\u001b[0;34m.\u001b[0m\u001b[0m_run_search\u001b[0m\u001b[0;34m(\u001b[0m\u001b[0mevaluate_candidates\u001b[0m\u001b[0;34m)\u001b[0m\u001b[0;34m\u001b[0m\u001b[0;34m\u001b[0m\u001b[0m\n\u001b[0m\u001b[1;32m    689\u001b[0m \u001b[0;34m\u001b[0m\u001b[0m\n\u001b[1;32m    690\u001b[0m         \u001b[0;31m# For multi-metric evaluation, store the best_index_, best_params_ and\u001b[0m\u001b[0;34m\u001b[0m\u001b[0;34m\u001b[0m\u001b[0;34m\u001b[0m\u001b[0m\n",
      "\u001b[0;32m/home/cdsw/.local/lib/python3.6/site-packages/sklearn/model_selection/_search.py\u001b[0m in \u001b[0;36m_run_search\u001b[0;34m(self, evaluate_candidates)\u001b[0m\n\u001b[1;32m   1147\u001b[0m     \u001b[0;32mdef\u001b[0m \u001b[0m_run_search\u001b[0m\u001b[0;34m(\u001b[0m\u001b[0mself\u001b[0m\u001b[0;34m,\u001b[0m \u001b[0mevaluate_candidates\u001b[0m\u001b[0;34m)\u001b[0m\u001b[0;34m:\u001b[0m\u001b[0;34m\u001b[0m\u001b[0;34m\u001b[0m\u001b[0m\n\u001b[1;32m   1148\u001b[0m         \u001b[0;34m\"\"\"Search all candidates in param_grid\"\"\"\u001b[0m\u001b[0;34m\u001b[0m\u001b[0;34m\u001b[0m\u001b[0m\n\u001b[0;32m-> 1149\u001b[0;31m         \u001b[0mevaluate_candidates\u001b[0m\u001b[0;34m(\u001b[0m\u001b[0mParameterGrid\u001b[0m\u001b[0;34m(\u001b[0m\u001b[0mself\u001b[0m\u001b[0;34m.\u001b[0m\u001b[0mparam_grid\u001b[0m\u001b[0;34m)\u001b[0m\u001b[0;34m)\u001b[0m\u001b[0;34m\u001b[0m\u001b[0;34m\u001b[0m\u001b[0m\n\u001b[0m\u001b[1;32m   1150\u001b[0m \u001b[0;34m\u001b[0m\u001b[0m\n\u001b[1;32m   1151\u001b[0m \u001b[0;34m\u001b[0m\u001b[0m\n",
      "\u001b[0;32m/home/cdsw/.local/lib/python3.6/site-packages/sklearn/model_selection/_search.py\u001b[0m in \u001b[0;36mevaluate_candidates\u001b[0;34m(candidate_params)\u001b[0m\n\u001b[1;32m    665\u001b[0m                                \u001b[0;32mfor\u001b[0m \u001b[0mparameters\u001b[0m\u001b[0;34m,\u001b[0m \u001b[0;34m(\u001b[0m\u001b[0mtrain\u001b[0m\u001b[0;34m,\u001b[0m \u001b[0mtest\u001b[0m\u001b[0;34m)\u001b[0m\u001b[0;34m\u001b[0m\u001b[0;34m\u001b[0m\u001b[0m\n\u001b[1;32m    666\u001b[0m                                in product(candidate_params,\n\u001b[0;32m--> 667\u001b[0;31m                                           cv.split(X, y, groups)))\n\u001b[0m\u001b[1;32m    668\u001b[0m \u001b[0;34m\u001b[0m\u001b[0m\n\u001b[1;32m    669\u001b[0m                 \u001b[0;32mif\u001b[0m \u001b[0mlen\u001b[0m\u001b[0;34m(\u001b[0m\u001b[0mout\u001b[0m\u001b[0;34m)\u001b[0m \u001b[0;34m<\u001b[0m \u001b[0;36m1\u001b[0m\u001b[0;34m:\u001b[0m\u001b[0;34m\u001b[0m\u001b[0;34m\u001b[0m\u001b[0m\n",
      "\u001b[0;32m/home/cdsw/.local/lib/python3.6/site-packages/joblib/parallel.py\u001b[0m in \u001b[0;36m__call__\u001b[0;34m(self, iterable)\u001b[0m\n\u001b[1;32m   1014\u001b[0m \u001b[0;34m\u001b[0m\u001b[0m\n\u001b[1;32m   1015\u001b[0m             \u001b[0;32mwith\u001b[0m \u001b[0mself\u001b[0m\u001b[0;34m.\u001b[0m\u001b[0m_backend\u001b[0m\u001b[0;34m.\u001b[0m\u001b[0mretrieval_context\u001b[0m\u001b[0;34m(\u001b[0m\u001b[0;34m)\u001b[0m\u001b[0;34m:\u001b[0m\u001b[0;34m\u001b[0m\u001b[0;34m\u001b[0m\u001b[0m\n\u001b[0;32m-> 1016\u001b[0;31m                 \u001b[0mself\u001b[0m\u001b[0;34m.\u001b[0m\u001b[0mretrieve\u001b[0m\u001b[0;34m(\u001b[0m\u001b[0;34m)\u001b[0m\u001b[0;34m\u001b[0m\u001b[0;34m\u001b[0m\u001b[0m\n\u001b[0m\u001b[1;32m   1017\u001b[0m             \u001b[0;31m# Make sure that we get a last message telling us we are done\u001b[0m\u001b[0;34m\u001b[0m\u001b[0;34m\u001b[0m\u001b[0;34m\u001b[0m\u001b[0m\n\u001b[1;32m   1018\u001b[0m             \u001b[0melapsed_time\u001b[0m \u001b[0;34m=\u001b[0m \u001b[0mtime\u001b[0m\u001b[0;34m.\u001b[0m\u001b[0mtime\u001b[0m\u001b[0;34m(\u001b[0m\u001b[0;34m)\u001b[0m \u001b[0;34m-\u001b[0m \u001b[0mself\u001b[0m\u001b[0;34m.\u001b[0m\u001b[0m_start_time\u001b[0m\u001b[0;34m\u001b[0m\u001b[0;34m\u001b[0m\u001b[0m\n",
      "\u001b[0;32m/home/cdsw/.local/lib/python3.6/site-packages/joblib/parallel.py\u001b[0m in \u001b[0;36mretrieve\u001b[0;34m(self)\u001b[0m\n\u001b[1;32m    908\u001b[0m                     \u001b[0mself\u001b[0m\u001b[0;34m.\u001b[0m\u001b[0m_output\u001b[0m\u001b[0;34m.\u001b[0m\u001b[0mextend\u001b[0m\u001b[0;34m(\u001b[0m\u001b[0mjob\u001b[0m\u001b[0;34m.\u001b[0m\u001b[0mget\u001b[0m\u001b[0;34m(\u001b[0m\u001b[0mtimeout\u001b[0m\u001b[0;34m=\u001b[0m\u001b[0mself\u001b[0m\u001b[0;34m.\u001b[0m\u001b[0mtimeout\u001b[0m\u001b[0;34m)\u001b[0m\u001b[0;34m)\u001b[0m\u001b[0;34m\u001b[0m\u001b[0;34m\u001b[0m\u001b[0m\n\u001b[1;32m    909\u001b[0m                 \u001b[0;32melse\u001b[0m\u001b[0;34m:\u001b[0m\u001b[0;34m\u001b[0m\u001b[0;34m\u001b[0m\u001b[0m\n\u001b[0;32m--> 910\u001b[0;31m                     \u001b[0mself\u001b[0m\u001b[0;34m.\u001b[0m\u001b[0m_output\u001b[0m\u001b[0;34m.\u001b[0m\u001b[0mextend\u001b[0m\u001b[0;34m(\u001b[0m\u001b[0mjob\u001b[0m\u001b[0;34m.\u001b[0m\u001b[0mget\u001b[0m\u001b[0;34m(\u001b[0m\u001b[0;34m)\u001b[0m\u001b[0;34m)\u001b[0m\u001b[0;34m\u001b[0m\u001b[0;34m\u001b[0m\u001b[0m\n\u001b[0m\u001b[1;32m    911\u001b[0m \u001b[0;34m\u001b[0m\u001b[0m\n\u001b[1;32m    912\u001b[0m             \u001b[0;32mexcept\u001b[0m \u001b[0mBaseException\u001b[0m \u001b[0;32mas\u001b[0m \u001b[0mexception\u001b[0m\u001b[0;34m:\u001b[0m\u001b[0;34m\u001b[0m\u001b[0;34m\u001b[0m\u001b[0m\n",
      "\u001b[0;32m/home/cdsw/.local/lib/python3.6/site-packages/joblib/_dask.py\u001b[0m in \u001b[0;36mget\u001b[0;34m()\u001b[0m\n\u001b[1;32m    268\u001b[0m \u001b[0;34m\u001b[0m\u001b[0m\n\u001b[1;32m    269\u001b[0m         \u001b[0;32mdef\u001b[0m \u001b[0mget\u001b[0m\u001b[0;34m(\u001b[0m\u001b[0;34m)\u001b[0m\u001b[0;34m:\u001b[0m\u001b[0;34m\u001b[0m\u001b[0;34m\u001b[0m\u001b[0m\n\u001b[0;32m--> 270\u001b[0;31m             \u001b[0;32mreturn\u001b[0m \u001b[0mref\u001b[0m\u001b[0;34m(\u001b[0m\u001b[0;34m)\u001b[0m\u001b[0;34m.\u001b[0m\u001b[0mresult\u001b[0m\u001b[0;34m(\u001b[0m\u001b[0;34m)\u001b[0m\u001b[0;34m\u001b[0m\u001b[0;34m\u001b[0m\u001b[0m\n\u001b[0m\u001b[1;32m    271\u001b[0m \u001b[0;34m\u001b[0m\u001b[0m\n\u001b[1;32m    272\u001b[0m         \u001b[0mfuture\u001b[0m\u001b[0;34m.\u001b[0m\u001b[0mget\u001b[0m \u001b[0;34m=\u001b[0m \u001b[0mget\u001b[0m  \u001b[0;31m# monkey patch to achieve AsyncResult API\u001b[0m\u001b[0;34m\u001b[0m\u001b[0;34m\u001b[0m\u001b[0m\n",
      "\u001b[0;32m/home/cdsw/.local/lib/python3.6/site-packages/distributed/client.py\u001b[0m in \u001b[0;36mresult\u001b[0;34m(self, timeout)\u001b[0m\n\u001b[1;32m    222\u001b[0m             \u001b[0;32mraise\u001b[0m \u001b[0mexc\u001b[0m\u001b[0;34m.\u001b[0m\u001b[0mwith_traceback\u001b[0m\u001b[0;34m(\u001b[0m\u001b[0mtb\u001b[0m\u001b[0;34m)\u001b[0m\u001b[0;34m\u001b[0m\u001b[0;34m\u001b[0m\u001b[0m\n\u001b[1;32m    223\u001b[0m         \u001b[0;32melif\u001b[0m \u001b[0mself\u001b[0m\u001b[0;34m.\u001b[0m\u001b[0mstatus\u001b[0m \u001b[0;34m==\u001b[0m \u001b[0;34m\"cancelled\"\u001b[0m\u001b[0;34m:\u001b[0m\u001b[0;34m\u001b[0m\u001b[0;34m\u001b[0m\u001b[0m\n\u001b[0;32m--> 224\u001b[0;31m             \u001b[0;32mraise\u001b[0m \u001b[0mresult\u001b[0m\u001b[0;34m\u001b[0m\u001b[0;34m\u001b[0m\u001b[0m\n\u001b[0m\u001b[1;32m    225\u001b[0m         \u001b[0;32melse\u001b[0m\u001b[0;34m:\u001b[0m\u001b[0;34m\u001b[0m\u001b[0;34m\u001b[0m\u001b[0m\n\u001b[1;32m    226\u001b[0m             \u001b[0;32mreturn\u001b[0m \u001b[0mresult\u001b[0m\u001b[0;34m\u001b[0m\u001b[0;34m\u001b[0m\u001b[0m\n",
      "\u001b[0;31mCancelledError\u001b[0m: _fit_and_score-batch-a65945a1f5b44e85a720511f734180c6"
     ]
    },
    {
     "name": "stderr",
     "output_type": "stream",
     "text": [
      "distributed.client - ERROR - Error in callback <function DaskDistributedBackend.apply_async.<locals>.callback_wrapper at 0x7fbe74437950> of <Future: status: cancelled, key: _fit_and_score-batch-26b80f5d41d248cc9f9dd4d70040547b>:\n",
      "Traceback (most recent call last):\n",
      "  File \"/home/cdsw/.local/lib/python3.6/site-packages/distributed/client.py\", line 287, in execute_callback\n",
      "    fn(fut)\n",
      "  File \"/home/cdsw/.local/lib/python3.6/site-packages/joblib/_dask.py\", line 260, in callback_wrapper\n",
      "    result = future.result()\n",
      "  File \"/home/cdsw/.local/lib/python3.6/site-packages/distributed/client.py\", line 224, in result\n",
      "    raise result\n",
      "concurrent.futures._base.CancelledError: _fit_and_score-batch-26b80f5d41d248cc9f9dd4d70040547b\n",
      "distributed.client - ERROR - Error in callback <function DaskDistributedBackend.apply_async.<locals>.callback_wrapper at 0x7fbe74437ea0> of <Future: status: cancelled, key: _fit_and_score-batch-397d8bb295aa494aa06606779ce71249>:\n",
      "Traceback (most recent call last):\n",
      "  File \"/home/cdsw/.local/lib/python3.6/site-packages/distributed/client.py\", line 287, in execute_callback\n",
      "    fn(fut)\n",
      "  File \"/home/cdsw/.local/lib/python3.6/site-packages/joblib/_dask.py\", line 260, in callback_wrapper\n",
      "    result = future.result()\n",
      "  File \"/home/cdsw/.local/lib/python3.6/site-packages/distributed/client.py\", line 224, in result\n",
      "    raise result\n",
      "concurrent.futures._base.CancelledError: _fit_and_score-batch-397d8bb295aa494aa06606779ce71249\n",
      "distributed.client - ERROR - Error in callback <function DaskDistributedBackend.apply_async.<locals>.callback_wrapper at 0x7fbe74437400> of <Future: status: cancelled, key: _fit_and_score-batch-5e7926966a35455c884130dfa5945724>:\n",
      "Traceback (most recent call last):\n",
      "  File \"/home/cdsw/.local/lib/python3.6/site-packages/distributed/client.py\", line 287, in execute_callback\n",
      "    fn(fut)\n",
      "  File \"/home/cdsw/.local/lib/python3.6/site-packages/joblib/_dask.py\", line 260, in callback_wrapper\n",
      "    result = future.result()\n",
      "  File \"/home/cdsw/.local/lib/python3.6/site-packages/distributed/client.py\", line 224, in result\n",
      "    raise result\n",
      "concurrent.futures._base.CancelledError: _fit_and_score-batch-5e7926966a35455c884130dfa5945724\n",
      "distributed.client - ERROR - Error in callback <function DaskDistributedBackend.apply_async.<locals>.callback_wrapper at 0x7fbe7440c620> of <Future: status: cancelled, key: _fit_and_score-batch-61620dd3106545b7a76cf8bfcdab8056>:\n",
      "Traceback (most recent call last):\n",
      "  File \"/home/cdsw/.local/lib/python3.6/site-packages/distributed/client.py\", line 287, in execute_callback\n",
      "    fn(fut)\n",
      "  File \"/home/cdsw/.local/lib/python3.6/site-packages/joblib/_dask.py\", line 260, in callback_wrapper\n",
      "    result = future.result()\n",
      "  File \"/home/cdsw/.local/lib/python3.6/site-packages/distributed/client.py\", line 224, in result\n",
      "    raise result\n",
      "concurrent.futures._base.CancelledError: _fit_and_score-batch-61620dd3106545b7a76cf8bfcdab8056\n",
      "distributed.client - ERROR - Error in callback <function DaskDistributedBackend.apply_async.<locals>.callback_wrapper at 0x7fbe74442268> of <Future: status: cancelled, key: _fit_and_score-batch-7e0e3d8fb0364d89a9429c7107dce20e>:\n",
      "Traceback (most recent call last):\n",
      "  File \"/home/cdsw/.local/lib/python3.6/site-packages/distributed/client.py\", line 287, in execute_callback\n",
      "    fn(fut)\n",
      "  File \"/home/cdsw/.local/lib/python3.6/site-packages/joblib/_dask.py\", line 260, in callback_wrapper\n",
      "    result = future.result()\n",
      "  File \"/home/cdsw/.local/lib/python3.6/site-packages/distributed/client.py\", line 224, in result\n",
      "    raise result\n",
      "concurrent.futures._base.CancelledError: _fit_and_score-batch-7e0e3d8fb0364d89a9429c7107dce20e\n",
      "distributed.client - ERROR - Error in callback <function DaskDistributedBackend.apply_async.<locals>.callback_wrapper at 0x7fbe744420d0> of <Future: status: cancelled, key: _fit_and_score-batch-a9945bf797d0480db1305a9750dbeaf5>:\n",
      "Traceback (most recent call last):\n",
      "  File \"/home/cdsw/.local/lib/python3.6/site-packages/distributed/client.py\", line 287, in execute_callback\n",
      "    fn(fut)\n",
      "  File \"/home/cdsw/.local/lib/python3.6/site-packages/joblib/_dask.py\", line 260, in callback_wrapper\n",
      "    result = future.result()\n",
      "  File \"/home/cdsw/.local/lib/python3.6/site-packages/distributed/client.py\", line 224, in result\n",
      "    raise result\n",
      "concurrent.futures._base.CancelledError: _fit_and_score-batch-a9945bf797d0480db1305a9750dbeaf5\n",
      "distributed.client - ERROR - Error in callback <function DaskDistributedBackend.apply_async.<locals>.callback_wrapper at 0x7fbe74442510> of <Future: status: cancelled, key: _fit_and_score-batch-cbb825e9d92b4443b28d999b2f851822>:\n",
      "Traceback (most recent call last):\n",
      "  File \"/home/cdsw/.local/lib/python3.6/site-packages/distributed/client.py\", line 287, in execute_callback\n",
      "    fn(fut)\n",
      "  File \"/home/cdsw/.local/lib/python3.6/site-packages/joblib/_dask.py\", line 260, in callback_wrapper\n",
      "    result = future.result()\n",
      "  File \"/home/cdsw/.local/lib/python3.6/site-packages/distributed/client.py\", line 224, in result\n",
      "    raise result\n",
      "concurrent.futures._base.CancelledError: _fit_and_score-batch-cbb825e9d92b4443b28d999b2f851822\n",
      "distributed.client - ERROR - Error in callback <function DaskDistributedBackend.apply_async.<locals>.callback_wrapper at 0x7fbe74446e18> of <Future: status: cancelled, key: _fit_and_score-batch-51c60756f9da405dbc3f925bb7223699>:\n",
      "Traceback (most recent call last):\n",
      "  File \"/home/cdsw/.local/lib/python3.6/site-packages/distributed/client.py\", line 287, in execute_callback\n",
      "    fn(fut)\n",
      "  File \"/home/cdsw/.local/lib/python3.6/site-packages/joblib/_dask.py\", line 260, in callback_wrapper\n",
      "    result = future.result()\n",
      "  File \"/home/cdsw/.local/lib/python3.6/site-packages/distributed/client.py\", line 224, in result\n",
      "    raise result\n",
      "concurrent.futures._base.CancelledError: _fit_and_score-batch-51c60756f9da405dbc3f925bb7223699\n",
      "distributed.client - ERROR - Error in callback <function DaskDistributedBackend.apply_async.<locals>.callback_wrapper at 0x7fbe74446c80> of <Future: status: cancelled, key: _fit_and_score-batch-a65945a1f5b44e85a720511f734180c6>:\n",
      "Traceback (most recent call last):\n",
      "  File \"/home/cdsw/.local/lib/python3.6/site-packages/distributed/client.py\", line 287, in execute_callback\n",
      "    fn(fut)\n",
      "  File \"/home/cdsw/.local/lib/python3.6/site-packages/joblib/_dask.py\", line 260, in callback_wrapper\n",
      "    result = future.result()\n",
      "  File \"/home/cdsw/.local/lib/python3.6/site-packages/distributed/client.py\", line 224, in result\n",
      "    raise result\n",
      "concurrent.futures._base.CancelledError: _fit_and_score-batch-a65945a1f5b44e85a720511f734180c6\n"
     ]
    }
   ],
   "source": [
    "from sklearn.externals.joblib import parallel_backend\n",
    "\n",
    "with parallel_backend('dask'):\n",
    "    grid_search.fit(data.data, data.target)"
   ]
  },
  {
   "cell_type": "code",
   "execution_count": null,
   "metadata": {},
   "outputs": [],
   "source": [
    "## stop CDSW workers\n",
    "#Parameter\n",
    "#worker_id (int, optional) - The ID numbers of the worker engines that must be stopped. \n",
    "#If an ID is not provided, all the worker engines on the cluster will be stopped.\n",
    "\n",
    "cdsw.stop_workers()"
   ]
  },
  {
   "cell_type": "markdown",
   "metadata": {},
   "source": [
    "#### Next we will see how you can use the Dask-ML library as an alternative to the above"
   ]
  },
  {
   "cell_type": "code",
   "execution_count": null,
   "metadata": {},
   "outputs": [],
   "source": []
  }
 ],
 "metadata": {
  "kernelspec": {
   "display_name": "Python 3",
   "language": "python",
   "name": "python3"
  },
  "language_info": {
   "codemirror_mode": {
    "name": "ipython",
    "version": 3
   },
   "file_extension": ".py",
   "mimetype": "text/x-python",
   "name": "python",
   "nbconvert_exporter": "python",
   "pygments_lexer": "ipython3",
   "version": "3.6.10"
  }
 },
 "nbformat": 4,
 "nbformat_minor": 4
}
